{
 "cells": [
  {
   "cell_type": "code",
   "execution_count": 1,
   "metadata": {},
   "outputs": [],
   "source": [
    "import torch\n",
    "torch.multiprocessing.set_start_method(\"spawn\")        # https://github.com/pytorch/pytorch/issues/3491#event-1326332533\n",
    "import torch.nn as nn\n",
    "import torch.optim\n",
    "from torchvision import datasets,transforms\n",
    "\n",
    "import numpy as np\n",
    "import matplotlib\n",
    "matplotlib.use('Agg')\n",
    "get_ipython().magic('matplotlib inline')\n",
    "from matplotlib import pyplot as plt\n",
    "from matplotlib.pyplot import subplot\n",
    "from sklearn.metrics import accuracy_score\n",
    "from tqdm import tqdm_notebook as tqdm"
   ]
  },
  {
   "cell_type": "code",
   "execution_count": 2,
   "metadata": {},
   "outputs": [],
   "source": [
    "img_channels = 1\n",
    "if img_channels==3:\n",
    "    transformImg = transforms.Compose([transforms.ToTensor(),\n",
    "                                       transforms.Normalize((0.5, 0.5, 0.5), (0.5, 0.5, 0.5))])\n",
    "else:\n",
    "    transformImg = transforms.Compose([transforms.ToTensor(),\n",
    "                                       transforms.Normalize([0.5], [0.5])])\n",
    "train = datasets.MNIST(root='../data', train=True, download=True, transform=transformImg)\n",
    "valid = datasets.MNIST(root='../data', train=True, download=True, transform=transformImg)\n",
    "test = datasets.MNIST(root='../data', train=False, download=True, transform=transformImg)"
   ]
  },
  {
   "cell_type": "code",
   "execution_count": 3,
   "metadata": {},
   "outputs": [],
   "source": [
    "# create training and validation set indexes (80-20 split)\n",
    "idx = list(range(len(train)))\n",
    "np.random.seed(1009)\n",
    "np.random.shuffle(idx)          \n",
    "train_idx = idx[ : int(0.8 * len(idx))]       \n",
    "valid_idx = idx[int(0.8 * len(idx)) : ]"
   ]
  },
  {
   "cell_type": "code",
   "execution_count": 4,
   "metadata": {},
   "outputs": [
    {
     "data": {
      "text/plain": [
       "(<matplotlib.axes._subplots.AxesSubplot at 0x7f752acf4198>,\n",
       " <matplotlib.image.AxesImage at 0x7f752ac79668>)"
      ]
     },
     "execution_count": 4,
     "metadata": {},
     "output_type": "execute_result"
    },
    {
     "data": {
      "image/png": "[encoded data removed]",
      "text/plain": [
       "<Figure size 432x288 with 4 Axes>"
      ]
     },
     "metadata": {
      "needs_background": "light"
     },
     "output_type": "display_data"
    }
   ],
   "source": [
    "# sample images\n",
    "fig1 = train.data[0].numpy()  \n",
    "fig2 = train.data[2500].numpy()\n",
    "fig3 = train.data[25000].numpy()  \n",
    "fig4 = train.data[59999].numpy()\n",
    "subplot(2,2,1), plt.imshow(fig1)  \n",
    "subplot(2,2,2), plt.imshow(fig2) \n",
    "subplot(2,2,3), plt.imshow(fig3)\n",
    "subplot(2,2,4), plt.imshow(fig4)"
   ]
  },
  {
   "cell_type": "code",
   "execution_count": 5,
   "metadata": {},
   "outputs": [],
   "source": [
    "# generate training and validation set samples\n",
    "train_set = torch.utils.data.sampler.SubsetRandomSampler(train_idx)    \n",
    "valid_set = torch.utils.data.sampler.SubsetRandomSampler(valid_idx)  \n",
    "\n",
    "# Load training and validation data based on above samples\n",
    "# Size of an individual batch during training and validation is 30\n",
    "# Both training and validation datasets are shuffled at every epoch by 'SubsetRandomSampler()'. Test set is not shuffled.\n",
    "train_loader = torch.utils.data.DataLoader(train, batch_size=30, sampler=train_set, num_workers=4)  \n",
    "valid_loader = torch.utils.data.DataLoader(train, batch_size=30, sampler=valid_set, num_workers=4)    \n",
    "test_loader = torch.utils.data.DataLoader(test, num_workers=4)"
   ]
  },
  {
   "cell_type": "code",
   "execution_count": 6,
   "metadata": {},
   "outputs": [],
   "source": [
    "for batch_num, training_batch in enumerate(train_loader):\n",
    "    # split training data into inputs and labels\n",
    "    inputs, labels = training_batch                              # 'training_batch' is a list\n",
    "    break"
   ]
  },
  {
   "cell_type": "code",
   "execution_count": 7,
   "metadata": {},
   "outputs": [
    {
     "name": "stdout",
     "output_type": "stream",
     "text": [
      "torch.Size([30, 1, 28, 28]) torch.Size([30])\n"
     ]
    },
    {
     "data": {
      "text/plain": [
       "<matplotlib.colorbar.Colorbar at 0x7f752efa2710>"
      ]
     },
     "execution_count": 7,
     "metadata": {},
     "output_type": "execute_result"
    },
    {
     "data": {
      "image/png": "[encoded data removed]",
      "text/plain": [
       "<Figure size 432x288 with 2 Axes>"
      ]
     },
     "metadata": {
      "needs_background": "light"
     },
     "output_type": "display_data"
    }
   ],
   "source": [
    "print(inputs.shape,labels.shape)\n",
    "plt.imshow(inputs[0].squeeze().numpy())\n",
    "plt.colorbar()"
   ]
  },
  {
   "cell_type": "code",
   "execution_count": 8,
   "metadata": {},
   "outputs": [
    {
     "data": {
      "text/plain": [
       "VGG(\n",
       "  (conv1): Conv2d(1, 64, kernel_size=(3, 3), stride=(1, 1), padding=(2, 2))\n",
       "  (maxpool1): MaxPool2d(kernel_size=2, stride=2, padding=0, dilation=1, ceil_mode=False)\n",
       "  (conv2): Conv2d(64, 128, kernel_size=(3, 3), stride=(1, 1), padding=(1, 1))\n",
       "  (maxpool2): MaxPool2d(kernel_size=2, stride=2, padding=0, dilation=1, ceil_mode=False)\n",
       "  (conv3): Conv2d(128, 256, kernel_size=(3, 3), stride=(1, 1), padding=(1, 1))\n",
       "  (conv4): Conv2d(256, 256, kernel_size=(3, 3), stride=(1, 1), padding=(1, 1))\n",
       "  (maxpool3): MaxPool2d(kernel_size=2, stride=2, padding=0, dilation=1, ceil_mode=False)\n",
       "  (conv5): Conv2d(256, 512, kernel_size=(3, 3), stride=(1, 1), padding=(1, 1))\n",
       "  (conv6): Conv2d(512, 512, kernel_size=(3, 3), stride=(1, 1), padding=(1, 1))\n",
       "  (maxpool4): MaxPool2d(kernel_size=2, stride=2, padding=0, dilation=1, ceil_mode=False)\n",
       "  (fc1): Linear(in_features=512, out_features=64, bias=True)\n",
       "  (fc2): Linear(in_features=64, out_features=64, bias=True)\n",
       "  (fc3): Linear(in_features=64, out_features=10, bias=True)\n",
       ")"
      ]
     },
     "execution_count": 8,
     "metadata": {},
     "output_type": "execute_result"
    }
   ],
   "source": [
    "# Defining the network (LeNet-5)  \n",
    "class LeNet5(torch.nn.Module):    \n",
    "     \n",
    "    def __init__(self,img_channels=1):\n",
    "        super(LeNet5, self).__init__()\n",
    "        # Convolution (In LeNet-5, 32x32 images are given as input. Hence padding of 2 is done below)\n",
    "        self.conv1 = nn.Conv2d(in_channels=img_channels, out_channels=6, kernel_size=5, stride=1, padding=2, bias=True)\n",
    "        self.maxpool1 = nn.MaxPool2d(kernel_size=2)\n",
    "        self.conv2 = nn.Conv2d(in_channels=6, out_channels=16, kernel_size=5, stride=1, padding=0, bias=True)\n",
    "        self.maxpool2 = nn.MaxPool2d(kernel_size=2) \n",
    "        # Fully connected layer\n",
    "        self.fc1 = nn.Linear(16*5*5, 120)   # convert matrix with 16*5*5 (= 400) features to a matrix of 120 features (columns)\n",
    "        self.fc2 = nn.Linear(120, 84)       # convert matrix with 120 features to a matrix of 84 features (columns)\n",
    "        self.fc3 = nn.Linear(84, 10)        # convert matrix with 84 features to a matrix of 10 features (columns)\n",
    "        \n",
    "    def forward(self, x):\n",
    "        x = torch.relu(self.conv1(x))\n",
    "        x = self.maxpool1(x) \n",
    "        x = torch.relu(self.conv2(x))\n",
    "        # max-pooling with 2x2 grid\n",
    "        x = self.maxpool2(x)\n",
    "        # first flatten 'max_pool_2_out' to contain 16*5*5 columns\n",
    "        # read through https://stackoverflow.com/a/42482819/7551231\n",
    "        x = torch.relu(self.fc1(x.view(-1, 16*5*5)))\n",
    "        x = torch.relu(self.fc2(x))\n",
    "        x = self.fc3(x)\n",
    "        return x\n",
    "    \n",
    "    def forward_allout(self, x):\n",
    "        x1 = torch.relu(self.conv1(x))\n",
    "        x1 = self.maxpool1(x1)        # max-pooling with 2x2 grid\n",
    "        x2 = torch.relu(self.conv2(x1))\n",
    "        x2 = self.maxpool2(x2)\n",
    "        # first flatten 'max_pool_2_out' to contain 16*5*5 columns\n",
    "        # read through https://stackoverflow.com/a/42482819/7551231\n",
    "        x3 = torch.relu(self.fc1(x2.view(-1, 16*5*5)))\n",
    "        x4 = torch.relu(self.fc2(x3))\n",
    "        x5 = self.fc3(x4)\n",
    "        return x1,x2,x3,x4,x5\n",
    "\n",
    "# Defining the network (VGG-11, reduced)  \n",
    "class VGG(torch.nn.Module):          \n",
    "     \n",
    "    def __init__(self,img_channels=1):\n",
    "        super(VGG, self).__init__()\n",
    "        # Convolution (In VGG, 224x244 images are given as input, but here we use 32x32. Hence padding of 2 is done below)\n",
    "        self.conv1 = nn.Conv2d(in_channels=img_channels, out_channels=64, kernel_size=3, stride=1, padding=2)\n",
    "        self.maxpool1 = nn.MaxPool2d(kernel_size=2,stride=2)\n",
    "        self.conv2 = nn.Conv2d(in_channels=64, out_channels=128, kernel_size=3, stride=1, padding=1)\n",
    "        self.maxpool2 = nn.MaxPool2d(kernel_size=2,stride=2)\n",
    "        self.conv3 = nn.Conv2d(in_channels=128, out_channels=256, kernel_size=3, stride=1, padding=1)\n",
    "        self.conv4 = nn.Conv2d(in_channels=256, out_channels=256, kernel_size=3, stride=1, padding=1)\n",
    "        self.maxpool3 = nn.MaxPool2d(kernel_size=2,stride=2)\n",
    "        self.conv5 = nn.Conv2d(in_channels=256, out_channels=512, kernel_size=3, stride=1, padding=1)\n",
    "        self.conv6 = nn.Conv2d(in_channels=512, out_channels=512, kernel_size=3, stride=1, padding=1)\n",
    "        self.maxpool4 = nn.MaxPool2d(kernel_size=2,stride=2)\n",
    "        # Fully connected layers\n",
    "        self.fc1 = nn.Linear(512, 64) # 64=(3.5*28)^2. following from VGG's 4096=(3.5*224)^2\n",
    "        self.fc2 = nn.Linear(64, 64)\n",
    "        self.fc3 = nn.Linear(64, 10)\n",
    "        \n",
    "    def forward(self, x):\n",
    "        x = torch.relu(self.conv1(x))\n",
    "        x = self.maxpool1(x)        # max-pooling with 2x2 grid\n",
    "        x = torch.relu(self.conv2(x))\n",
    "        x = self.maxpool2(x)\n",
    "        x = torch.relu(self.conv3(x))\n",
    "        x = torch.relu(self.conv4(x))\n",
    "        x = self.maxpool3(x)\n",
    "        x = torch.relu(self.conv5(x))\n",
    "        x = torch.relu(self.conv6(x))\n",
    "        x = self.maxpool3(x)\n",
    "        # first flatten 'max_pool_2_out' to contain 16*5*5 columns\n",
    "        # read through https://stackoverflow.com/a/42482819/7551231\n",
    "        x = torch.relu(self.fc1(x.view(-1, 512)))\n",
    "        x = torch.relu(self.fc2(x))\n",
    "        x = self.fc3(x)\n",
    "        return x\n",
    "    \n",
    "    def forward_allout(self, x):\n",
    "        x1 = torch.relu(self.conv1(x))\n",
    "        x1 = self.maxpool1(x1)        # max-pooling with 2x2 grid\n",
    "        x2 = torch.relu(self.conv2(x1))\n",
    "        x2 = self.maxpool2(x2)\n",
    "        x3 = torch.relu(self.conv3(x2))\n",
    "        x4 = torch.relu(self.conv4(x3))\n",
    "        x4 = self.maxpool3(x4)\n",
    "        x5 = torch.relu(self.conv5(x4))\n",
    "        x6 = torch.relu(self.conv6(x5))\n",
    "        x6 = self.maxpool3(x6)\n",
    "        # first flatten 'max_pool_2_out' to contain 16*5*5 columns\n",
    "        # read through https://stackoverflow.com/a/42482819/7551231\n",
    "        x7 = torch.relu(self.fc1(x6.view(-1, 512)))\n",
    "        x8 = torch.relu(self.fc2(x7))\n",
    "        x9 = self.fc3(x8)\n",
    "        return [x1,x2,x3,x4,x5,x6,x7,x8,x9]\n",
    "     \n",
    "# net = LeNet5(img_channels=img_channels)\n",
    "net = VGG(img_channels=img_channels)\n",
    "net.cuda()"
   ]
  },
  {
   "cell_type": "code",
   "execution_count": 9,
   "metadata": {},
   "outputs": [],
   "source": [
    "# set up loss function -- 'SVM Loss' a.k.a 'Cross-Entropy Loss'\n",
    "loss_func = torch.nn.CrossEntropyLoss()\n",
    "       \n",
    "# SGD used for optimization, momentum update used as parameter update  \n",
    "optimization = torch.optim.SGD(net.parameters(), lr = 0.001, momentum=0.9)"
   ]
  },
  {
   "cell_type": "code",
   "execution_count": 10,
   "metadata": {},
   "outputs": [
    {
     "name": "stdout",
     "output_type": "stream",
     "text": [
      "epoch:  0 , loss:  2.302046077102423\n",
      "epoch:  1 , loss:  2.3003290282189846\n",
      "epoch:  2 , loss:  2.2975527377426626\n",
      "epoch:  3 , loss:  1.723844442795962\n",
      "epoch:  4 , loss:  0.2958619773731334\n",
      "epoch:  5 , loss:  0.13557302858127515\n",
      "epoch:  6 , loss:  0.09112278603439336\n",
      "epoch:  7 , loss:  0.0708759471331723\n",
      "epoch:  8 , loss:  0.05842044751643698\n",
      "epoch:  9 , loss:  0.05032466700879013\n",
      "epoch:  10 , loss:  0.04244583929976216\n",
      "epoch:  11 , loss:  0.03688182995740135\n",
      "epoch:  12 , loss:  0.03170908546009741\n",
      "epoch:  13 , loss:  0.028259105864576667\n",
      "epoch:  14 , loss:  0.024690380709989766\n",
      "epoch:  15 , loss:  0.02178875375010648\n",
      "epoch:  16 , loss:  0.01937500065856284\n",
      "epoch:  17 , loss:  0.01666743636781348\n",
      "epoch:  18 , loss:  0.014963843753585025\n",
      "epoch:  19 , loss:  0.012871859712281547\n"
     ]
    }
   ],
   "source": [
    "use_cuda = torch.cuda.is_available()\n",
    "device = torch.device(\"cuda:0\" if use_cuda else \"cpu\")\n",
    "\n",
    "# Let training begin!\n",
    "numEpochs = 20    \n",
    "training_accuracy = []     \n",
    "validation_accuracy = []\n",
    "\n",
    "for epoch in range(numEpochs):\n",
    "    \n",
    "    # training set -- perform model training\n",
    "    epoch_training_loss = 0.0\n",
    "    num_batches = 0\n",
    "    for batch_num, training_batch in enumerate(train_loader):        # 'enumerate' is a super helpful function        \n",
    "        # split training data into inputs and labels\n",
    "        inputs, labels = training_batch                              # 'training_batch' is a list\n",
    "        inputs, labels = inputs.to(device), labels.to(device)\n",
    "        # Make gradients zero for parameters 'W', 'b'\n",
    "        net.zero_grad()         \n",
    "        # forward, backward pass with parameter update\n",
    "        forward_output = net(inputs)\n",
    "        loss = loss_func(forward_output, labels)\n",
    "        loss.backward()   \n",
    "        optimization.step()\n",
    "        # calculating loss \n",
    "        epoch_training_loss += loss.item()\n",
    "        num_batches += 1\n",
    "        \n",
    "    print(\"epoch: \", epoch, \", loss: \", epoch_training_loss/num_batches)            \n",
    "     \n",
    "    # calculate training set accuracy\n",
    "    accuracy = 0.0 \n",
    "    num_batches = 0\n",
    "    for batch_num, training_batch in enumerate(train_loader):        # 'enumerate' is a super helpful function        \n",
    "        num_batches += 1\n",
    "        inputs, actual_val = training_batch\n",
    "        # perform classification\n",
    "        predicted_val = net(inputs.cuda())\n",
    "        # convert 'predicted_val' tensor to numpy array and use 'numpy.argmax()' function    \n",
    "        predicted_val = predicted_val.cpu().data.numpy()    # convert cuda() type to cpu(), then convert it to numpy\n",
    "        predicted_val = np.argmax(predicted_val, axis = 1)  # retrieved max_values along every row    \n",
    "        # accuracy   \n",
    "        accuracy += accuracy_score(actual_val.numpy(), predicted_val)\n",
    "    training_accuracy.append(accuracy/num_batches)   \n",
    "\n",
    "    # calculate validation set accuracy \n",
    "    accuracy = 0.0 \n",
    "    num_batches = 0\n",
    "    for batch_num, validation_batch in enumerate(valid_loader):        # 'enumerate' is a super helpful function        \n",
    "        num_batches += 1\n",
    "        inputs, actual_val = validation_batch\n",
    "        # perform classification\n",
    "        predicted_val = net(inputs.cuda())\n",
    "        # convert 'predicted_val' tensor to numpy array and use 'numpy.argmax()' function    \n",
    "        predicted_val = predicted_val.cpu().data.numpy()    # convert cuda() type to cpu(), then convert it to numpy\n",
    "        predicted_val = np.argmax(predicted_val, axis = 1)  # retrieved max_values along every row    \n",
    "        # accuracy        \n",
    "        accuracy += accuracy_score(actual_val.numpy(), predicted_val)\n",
    "    validation_accuracy.append(accuracy/num_batches)"
   ]
  },
  {
   "cell_type": "code",
   "execution_count": 11,
   "metadata": {},
   "outputs": [
    {
     "data": {
      "text/plain": [
       "0.004663371946662664"
      ]
     },
     "execution_count": 11,
     "metadata": {},
     "output_type": "execute_result"
    }
   ],
   "source": [
    "loss.item()"
   ]
  },
  {
   "cell_type": "code",
   "execution_count": 12,
   "metadata": {},
   "outputs": [
    {
     "name": "stdout",
     "output_type": "stream",
     "text": [
      "[ -0.9801975   16.520208    -0.13945693 -11.08009      5.200576\n",
      " -11.205331    -3.347362     4.615297     4.236713    -2.9554772 ]\n"
     ]
    },
    {
     "data": {
      "text/plain": [
       "array([1, 4, 7, 6, 0, 3, 5, 0, 9, 7, 0, 3, 8, 9, 7, 0, 2, 1, 0, 4, 3, 3,\n",
       "       5, 9, 4, 0, 8, 5, 4, 3])"
      ]
     },
     "execution_count": 12,
     "metadata": {},
     "output_type": "execute_result"
    }
   ],
   "source": [
    "predicted_val = net(inputs.cuda()).cpu().data.numpy()\n",
    "print(predicted_val[0,:])\n",
    "predicted_val = np.argmax(predicted_val, axis = 1)\n",
    "predicted_val"
   ]
  },
  {
   "cell_type": "code",
   "execution_count": 13,
   "metadata": {},
   "outputs": [
    {
     "data": {
      "image/png": "[encoded data removed]",
      "text/plain": [
       "<Figure size 432x288 with 1 Axes>"
      ]
     },
     "metadata": {
      "needs_background": "light"
     },
     "output_type": "display_data"
    }
   ],
   "source": [
    "epochs = list(range(numEpochs))\n",
    "\n",
    "# plotting training and validation accuracies\n",
    "fig1 = plt.figure()\n",
    "plt.plot(epochs, training_accuracy, 'r')\n",
    "plt.plot(epochs, validation_accuracy, 'g')\n",
    "plt.xlabel(\"Epochs\")\n",
    "plt.ylabel(\"Accuracy\") \n",
    "plt.show(fig1)"
   ]
  },
  {
   "cell_type": "code",
   "execution_count": 14,
   "metadata": {},
   "outputs": [
    {
     "name": "stdout",
     "output_type": "stream",
     "text": [
      "Classifier Accuracy:  98.92999999999999\n"
     ]
    }
   ],
   "source": [
    "# test the model on test dataset\n",
    "correct = 0\n",
    "total = 0\n",
    "for test_data in test_loader:\n",
    "    total += 1\n",
    "    inputs, actual_val = test_data \n",
    "    # perform classification\n",
    "    predicted_val = net.forward_allout(inputs.cuda())\n",
    "    # convert 'predicted_val' GPU tensor to CPU tensor and extract the column with max_score\n",
    "    predicted_val = predicted_val[-1].cpu().data\n",
    "    max_score, idx = torch.max(predicted_val, 1)\n",
    "    # compare it with actual value and estimate accuracy\n",
    "    correct += (idx == actual_val).sum()\n",
    "       \n",
    "print(\"Classifier Accuracy: \", correct.numpy()/total * 100)"
   ]
  },
  {
   "cell_type": "code",
   "execution_count": 15,
   "metadata": {},
   "outputs": [
    {
     "data": {
      "text/plain": [
       "(<matplotlib.axes._subplots.AxesSubplot at 0x7f752ee35f60>,\n",
       " <matplotlib.image.AxesImage at 0x7f752edab160>)"
      ]
     },
     "execution_count": 15,
     "metadata": {},
     "output_type": "execute_result"
    },
    {
     "data": {
      "image/png": "[encoded data removed]",
      "text/plain": [
       "<Figure size 432x288 with 4 Axes>"
      ]
     },
     "metadata": {
      "needs_background": "light"
     },
     "output_type": "display_data"
    }
   ],
   "source": [
    "conv1 = torch.relu(net.conv1(inputs.cuda()))\n",
    "maxpool1 = net.maxpool1(conv1)\n",
    "conv2 = torch.relu(net.conv2(maxpool1))\n",
    "maxpool2 = net.maxpool2(conv2)\n",
    "\n",
    "subplot(1,4,1), plt.imshow(conv1[0,0,:,:].squeeze().detach().cpu().numpy())\n",
    "subplot(1,4,2), plt.imshow(maxpool1[0,0,:,:].squeeze().detach().cpu().numpy())\n",
    "subplot(1,4,3), plt.imshow(conv2[0,0,:,:].squeeze().detach().cpu().numpy())\n",
    "subplot(1,4,4), plt.imshow(maxpool2[0,0,:,:].squeeze().detach().cpu().numpy())"
   ]
  },
  {
   "cell_type": "code",
   "execution_count": 68,
   "metadata": {},
   "outputs": [
    {
     "name": "stdout",
     "output_type": "stream",
     "text": [
      "torch.Size([10000, 64, 15, 15])\n",
      "torch.Size([10000, 128, 7, 7])\n",
      "torch.Size([10000, 256, 7, 7])\n",
      "torch.Size([10000, 256, 3, 3])\n",
      "torch.Size([10000, 512, 3, 3])\n",
      "torch.Size([10000, 512, 1, 1])\n",
      "torch.Size([10000, 64])\n",
      "torch.Size([10000, 64])\n",
      "torch.Size([10000, 10])\n"
     ]
    }
   ],
   "source": [
    "# testout = net.forward_allout(test.data[0].cuda().view(1,1,28,28))\n",
    "testout1 = net.forward_allout(inputs.cuda())\n",
    "# x1.shape,x2.shape,x3.shape,x4.shape,x5.shape\n",
    "# (0,)+tuple(testout1[0].shape[1:])\n",
    "out=list()\n",
    "for i in range(len(testout1)):\n",
    "    out.append(torch.zeros(size=(len(test_loader),)+tuple(testout1[i].shape[1:])))\n",
    "    print(out[i].shape)"
   ]
  },
  {
   "cell_type": "code",
   "execution_count": 79,
   "metadata": {},
   "outputs": [
    {
     "data": {
      "text/plain": [
       "(64, 15, 15)"
      ]
     },
     "execution_count": 79,
     "metadata": {},
     "output_type": "execute_result"
    }
   ],
   "source": [
    "tt=tmp[0].detach().cpu().numpy()\n",
    "tt[0,:].shape"
   ]
  },
  {
   "cell_type": "code",
   "execution_count": 17,
   "metadata": {},
   "outputs": [
    {
     "data": {
      "text/plain": [
       "torch.Size([10000, 1, 28, 28])"
      ]
     },
     "execution_count": 17,
     "metadata": {},
     "output_type": "execute_result"
    }
   ],
   "source": [
    "test.data.view(-1,1,28,28).cuda().size()"
   ]
  },
  {
   "cell_type": "code",
   "execution_count": 18,
   "metadata": {},
   "outputs": [
    {
     "data": {
      "text/plain": [
       "torch.Size([2, 64, 15, 15])"
      ]
     },
     "execution_count": 18,
     "metadata": {},
     "output_type": "execute_result"
    }
   ],
   "source": [
    "#testout[0].shape\n",
    "torch.cat((testout1[0],testout1[0])).shape"
   ]
  },
  {
   "cell_type": "code",
   "execution_count": 87,
   "metadata": {},
   "outputs": [
    {
     "name": "stdout",
     "output_type": "stream",
     "text": [
      "1000\n",
      "2000\n",
      "3000\n",
      "4000\n",
      "5000\n",
      "6000\n",
      "7000\n",
      "8000\n",
      "9000\n",
      "10000\n"
     ]
    }
   ],
   "source": [
    "# this will run out of memory\n",
    "#testout = net.forward_allout(test.data.view(-1,1,28,28).to(device=device, dtype=torch.float))\n",
    "# with tqdm(total=len(test_loader)) as pbar:\n",
    "s=0\n",
    "for test_data in test_loader:\n",
    "    inputs, actual_val = test_data    \n",
    "    tmp = net.forward_allout(inputs.to(device=device, dtype=torch.float))\n",
    "    for i in range(len(tmp)):\n",
    "        out[i][s,:] = tmp[i].detach().cpu()\n",
    "#         pbar.update(1)\n",
    "    s+=1\n",
    "    if s % 1000 == 0: print(s)"
   ]
  },
  {
   "cell_type": "code",
   "execution_count": 89,
   "metadata": {},
   "outputs": [
    {
     "data": {
      "text/plain": [
       "torch.Size([10000, 10])"
      ]
     },
     "execution_count": 89,
     "metadata": {},
     "output_type": "execute_result"
    }
   ],
   "source": [
    "out[-1].size()"
   ]
  },
  {
   "cell_type": "code",
   "execution_count": 90,
   "metadata": {},
   "outputs": [
    {
     "data": {
      "text/plain": [
       "(tensor([  1.9674,  -1.8534,  -3.5803,  -8.9323,   5.1606,   4.6546,  13.7809,\n",
       "         -12.3435,   3.3175,   0.7816]), 6)"
      ]
     },
     "execution_count": 90,
     "metadata": {},
     "output_type": "execute_result"
    },
    {
     "data": {
      "image/png": "[encoded data removed]",
      "text/plain": [
       "<Figure size 432x288 with 1 Axes>"
      ]
     },
     "metadata": {
      "needs_background": "light"
     },
     "output_type": "display_data"
    }
   ],
   "source": [
    "inum=66\n",
    "plt.imshow(out[0][inum,0,:,:].squeeze().detach().cpu().numpy())\n",
    "out[-1][inum],np.argmax(out[-1][inum].detach().cpu().numpy())"
   ]
  },
  {
   "cell_type": "code",
   "execution_count": 99,
   "metadata": {},
   "outputs": [],
   "source": [
    "savedict = {}\n",
    "keys = range(len(out))\n",
    "for i in keys:\n",
    "    savedict['x'+str(i+1)] = out[i].detach().cpu().numpy()\n",
    "savedict['labels'] = test.targets.detach().cpu().numpy()\n",
    "\n",
    "import scipy.io\n",
    "scipy.io.savemat('mnist_vgg.mat',savedict)"
   ]
  },
  {
   "cell_type": "code",
   "execution_count": null,
   "metadata": {},
   "outputs": [],
   "source": []
  }
 ],
 "metadata": {
  "kernelspec": {
   "display_name": "Python 3",
   "language": "python",
   "name": "python3"
  },
  "language_info": {
   "codemirror_mode": {
    "name": "ipython",
    "version": 3
   },
   "file_extension": ".py",
   "mimetype": "text/x-python",
   "name": "python",
   "nbconvert_exporter": "python",
   "pygments_lexer": "ipython3",
   "version": "3.7.3"
  }
 },
 "nbformat": 4,
 "nbformat_minor": 2
}
