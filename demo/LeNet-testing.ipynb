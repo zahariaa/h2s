{
 "cells": [
  {
   "cell_type": "code",
   "execution_count": 1,
   "metadata": {},
   "outputs": [],
   "source": [
    "import torch\n",
    "torch.multiprocessing.set_start_method(\"spawn\")        # https://github.com/pytorch/pytorch/issues/3491#event-1326332533\n",
    "import torch.nn as nn\n",
    "import torch.optim\n",
    "from torchvision import datasets,transforms\n",
    "\n",
    "import numpy as np\n",
    "import matplotlib\n",
    "matplotlib.use('Agg')\n",
    "get_ipython().magic('matplotlib inline')\n",
    "from matplotlib import pyplot as plt\n",
    "from matplotlib.pyplot import subplot\n",
    "from sklearn.metrics import accuracy_score"
   ]
  },
  {
   "cell_type": "code",
   "execution_count": 2,
   "metadata": {},
   "outputs": [],
   "source": [
    "img_channels = 1\n",
    "if img_channels==3:\n",
    "    transformImg = transforms.Compose([transforms.ToTensor(),\n",
    "                                       transforms.Normalize((0.5, 0.5, 0.5), (0.5, 0.5, 0.5))])\n",
    "else:\n",
    "    transformImg = transforms.Compose([transforms.ToTensor(),\n",
    "                                       transforms.Normalize([0.5], [0.5])])\n",
    "train = datasets.MNIST(root='../data', train=True, download=True, transform=transformImg)\n",
    "valid = datasets.MNIST(root='../data', train=True, download=True, transform=transformImg)\n",
    "test = datasets.MNIST(root='../data', train=False, download=True, transform=transformImg)"
   ]
  },
  {
   "cell_type": "code",
   "execution_count": 3,
   "metadata": {},
   "outputs": [],
   "source": [
    "# create training and validation set indexes (80-20 split)\n",
    "idx = list(range(len(train)))\n",
    "np.random.seed(1009)\n",
    "np.random.shuffle(idx)          \n",
    "train_idx = idx[ : int(0.8 * len(idx))]       \n",
    "valid_idx = idx[int(0.8 * len(idx)) : ]"
   ]
  },
  {
   "cell_type": "code",
   "execution_count": 4,
   "metadata": {},
   "outputs": [
    {
     "data": {
      "text/plain": [
       "(<matplotlib.axes._subplots.AxesSubplot at 0x7f61bd143908>,\n",
       " <matplotlib.image.AxesImage at 0x7f61bd11d630>)"
      ]
     },
     "execution_count": 4,
     "metadata": {},
     "output_type": "execute_result"
    },
    {
     "data": {
      "image/png": "[encoded data removed]",
      "text/plain": [
       "<Figure size 432x288 with 4 Axes>"
      ]
     },
     "metadata": {
      "needs_background": "light"
     },
     "output_type": "display_data"
    }
   ],
   "source": [
    "# sample images\n",
    "fig1 = train.data[0].numpy()  \n",
    "fig2 = train.data[2500].numpy()\n",
    "fig3 = train.data[25000].numpy()  \n",
    "fig4 = train.data[59999].numpy()\n",
    "subplot(2,2,1), plt.imshow(fig1)  \n",
    "subplot(2,2,2), plt.imshow(fig2) \n",
    "subplot(2,2,3), plt.imshow(fig3)\n",
    "subplot(2,2,4), plt.imshow(fig4)"
   ]
  },
  {
   "cell_type": "code",
   "execution_count": 5,
   "metadata": {},
   "outputs": [],
   "source": [
    "# generate training and validation set samples\n",
    "train_set = torch.utils.data.sampler.SubsetRandomSampler(train_idx)    \n",
    "valid_set = torch.utils.data.sampler.SubsetRandomSampler(valid_idx)  \n",
    "\n",
    "# Load training and validation data based on above samples\n",
    "# Size of an individual batch during training and validation is 30\n",
    "# Both training and validation datasets are shuffled at every epoch by 'SubsetRandomSampler()'. Test set is not shuffled.\n",
    "train_loader = torch.utils.data.DataLoader(train, batch_size=30, sampler=train_set, num_workers=4)  \n",
    "valid_loader = torch.utils.data.DataLoader(train, batch_size=30, sampler=valid_set, num_workers=4)    \n",
    "test_loader = torch.utils.data.DataLoader(test, num_workers=4)"
   ]
  },
  {
   "cell_type": "code",
   "execution_count": 6,
   "metadata": {},
   "outputs": [],
   "source": [
    "for batch_num, training_batch in enumerate(train_loader):\n",
    "    # split training data into inputs and labels\n",
    "    inputs, labels = training_batch                              # 'training_batch' is a list\n",
    "    break"
   ]
  },
  {
   "cell_type": "code",
   "execution_count": 7,
   "metadata": {},
   "outputs": [
    {
     "name": "stdout",
     "output_type": "stream",
     "text": [
      "torch.Size([30, 1, 28, 28]) torch.Size([30])\n"
     ]
    },
    {
     "data": {
      "text/plain": [
       "<matplotlib.colorbar.Colorbar at 0x7f61c1445588>"
      ]
     },
     "execution_count": 7,
     "metadata": {},
     "output_type": "execute_result"
    },
    {
     "data": {
      "image/png": "[encoded data removed]",
      "text/plain": [
       "<Figure size 432x288 with 2 Axes>"
      ]
     },
     "metadata": {
      "needs_background": "light"
     },
     "output_type": "display_data"
    }
   ],
   "source": [
    "print(inputs.shape,labels.shape)\n",
    "plt.imshow(inputs[0].squeeze().numpy())\n",
    "plt.colorbar()"
   ]
  },
  {
   "cell_type": "code",
   "execution_count": 21,
   "metadata": {},
   "outputs": [
    {
     "data": {
      "text/plain": [
       "VGG(\n",
       "  (conv1): Conv2d(1, 64, kernel_size=(3, 3), stride=(1, 1), padding=(2, 2))\n",
       "  (maxpool1): MaxPool2d(kernel_size=2, stride=2, padding=0, dilation=1, ceil_mode=False)\n",
       "  (conv2): Conv2d(64, 128, kernel_size=(3, 3), stride=(1, 1), padding=(1, 1))\n",
       "  (maxpool2): MaxPool2d(kernel_size=2, stride=2, padding=0, dilation=1, ceil_mode=False)\n",
       "  (conv3): Conv2d(128, 256, kernel_size=(3, 3), stride=(1, 1), padding=(1, 1))\n",
       "  (conv4): Conv2d(256, 256, kernel_size=(3, 3), stride=(1, 1), padding=(1, 1))\n",
       "  (maxpool3): MaxPool2d(kernel_size=2, stride=2, padding=0, dilation=1, ceil_mode=False)\n",
       "  (conv5): Conv2d(256, 512, kernel_size=(3, 3), stride=(1, 1), padding=(1, 1))\n",
       "  (conv6): Conv2d(512, 512, kernel_size=(3, 3), stride=(1, 1), padding=(1, 1))\n",
       "  (maxpool4): MaxPool2d(kernel_size=2, stride=2, padding=0, dilation=1, ceil_mode=False)\n",
       "  (fc1): Linear(in_features=512, out_features=4096, bias=True)\n",
       "  (fc2): Linear(in_features=4096, out_features=2048, bias=True)\n",
       "  (fc3): Linear(in_features=2048, out_features=10, bias=True)\n",
       ")"
      ]
     },
     "execution_count": 21,
     "metadata": {},
     "output_type": "execute_result"
    }
   ],
   "source": [
    "# Defining the network (LeNet-5)  \n",
    "class LeNet5(torch.nn.Module):    \n",
    "     \n",
    "    def __init__(self,img_channels=1):\n",
    "        super(LeNet5, self).__init__()\n",
    "        # Convolution (In LeNet-5, 32x32 images are given as input. Hence padding of 2 is done below)\n",
    "        self.conv1 = nn.Conv2d(in_channels=img_channels, out_channels=6, kernel_size=5, stride=1, padding=2, bias=True)\n",
    "        self.maxpool1 = nn.MaxPool2d(kernel_size=2)\n",
    "        self.conv2 = nn.Conv2d(in_channels=6, out_channels=16, kernel_size=5, stride=1, padding=0, bias=True)\n",
    "        self.maxpool2 = nn.MaxPool2d(kernel_size=2) \n",
    "        # Fully connected layer\n",
    "        self.fc1 = nn.Linear(16*5*5, 120)   # convert matrix with 16*5*5 (= 400) features to a matrix of 120 features (columns)\n",
    "        self.fc2 = nn.Linear(120, 84)       # convert matrix with 120 features to a matrix of 84 features (columns)\n",
    "        self.fc3 = nn.Linear(84, 10)        # convert matrix with 84 features to a matrix of 10 features (columns)\n",
    "        \n",
    "    def forward(self, x):\n",
    "        x = torch.relu(self.conv1(x))\n",
    "        x = self.maxpool1(x) \n",
    "        x = torch.relu(self.conv2(x))\n",
    "        # max-pooling with 2x2 grid\n",
    "        x = self.maxpool2(x)\n",
    "        # first flatten 'max_pool_2_out' to contain 16*5*5 columns\n",
    "        # read through https://stackoverflow.com/a/42482819/7551231\n",
    "        x = torch.relu(self.fc1(x.view(-1, 16*5*5)))\n",
    "        x = torch.relu(self.fc2(x))\n",
    "        x = self.fc3(x)\n",
    "        return x\n",
    "    \n",
    "    def forward_allout(self, x):\n",
    "        x1 = torch.relu(self.conv1(x))\n",
    "        x1 = self.maxpool1(x1)        # max-pooling with 2x2 grid\n",
    "        x2 = torch.relu(self.conv2(x1))\n",
    "        x2 = self.maxpool2(x2)\n",
    "        # first flatten 'max_pool_2_out' to contain 16*5*5 columns\n",
    "        # read through https://stackoverflow.com/a/42482819/7551231\n",
    "        x3 = torch.relu(self.fc1(x2.view(-1, 16*5*5)))\n",
    "        x4 = torch.relu(self.fc2(x3))\n",
    "        x5 = self.fc3(x4)\n",
    "        return x1,x2,x3,x4,x5\n",
    "\n",
    "# Defining the network (VGG-11, reduced)  \n",
    "class VGG(torch.nn.Module):          \n",
    "     \n",
    "    def __init__(self,img_channels=1):\n",
    "        super(VGG, self).__init__()\n",
    "        # Convolution (In VGG, 224x244 images are given as input, but here we use 32x32. Hence padding of 2 is done below)\n",
    "        self.conv1 = nn.Conv2d(in_channels=img_channels, out_channels=64, kernel_size=3, stride=1, padding=2)\n",
    "        self.maxpool1 = nn.MaxPool2d(kernel_size=2,stride=2)\n",
    "        self.conv2 = nn.Conv2d(in_channels=64, out_channels=128, kernel_size=3, stride=1, padding=1)\n",
    "        self.maxpool2 = nn.MaxPool2d(kernel_size=2,stride=2)\n",
    "        self.conv3 = nn.Conv2d(in_channels=128, out_channels=256, kernel_size=3, stride=1, padding=1)\n",
    "        self.conv4 = nn.Conv2d(in_channels=256, out_channels=256, kernel_size=3, stride=1, padding=1)\n",
    "        self.maxpool3 = nn.MaxPool2d(kernel_size=2,stride=2)\n",
    "        self.conv5 = nn.Conv2d(in_channels=256, out_channels=512, kernel_size=3, stride=1, padding=1)\n",
    "        self.conv6 = nn.Conv2d(in_channels=512, out_channels=512, kernel_size=3, stride=1, padding=1)\n",
    "        self.maxpool4 = nn.MaxPool2d(kernel_size=2,stride=2)\n",
    "        # Fully connected layers\n",
    "        self.fc1 = nn.Linear(512, 4096)\n",
    "        self.fc2 = nn.Linear(4096, 2048)\n",
    "        self.fc3 = nn.Linear(2048, 10)\n",
    "        \n",
    "    def forward(self, x):\n",
    "        x = torch.relu(self.conv1(x))\n",
    "        x = self.maxpool1(x)        # max-pooling with 2x2 grid\n",
    "        x = torch.relu(self.conv2(x))\n",
    "        x = self.maxpool2(x)\n",
    "        x = torch.relu(self.conv3(x))\n",
    "        x = torch.relu(self.conv4(x))\n",
    "        x = self.maxpool3(x)\n",
    "        x = torch.relu(self.conv5(x))\n",
    "        x = torch.relu(self.conv6(x))\n",
    "        x = self.maxpool3(x)\n",
    "        # first flatten 'max_pool_2_out' to contain 16*5*5 columns\n",
    "        # read through https://stackoverflow.com/a/42482819/7551231\n",
    "        x = torch.relu(self.fc1(x.view(-1, 512)))\n",
    "        x = torch.relu(self.fc2(x))\n",
    "        x = self.fc3(x)\n",
    "        return x\n",
    "    \n",
    "    def forward_allout(self, x):\n",
    "        x1 = torch.relu(self.conv1(x))\n",
    "        x1 = self.maxpool1(x1)        # max-pooling with 2x2 grid\n",
    "        x2 = torch.relu(self.conv2(x1))\n",
    "        x2 = self.maxpool2(x2)\n",
    "        x3 = torch.relu(self.conv3(x2))\n",
    "        x4 = torch.relu(self.conv4(x3))\n",
    "        x4 = self.maxpool3(x4)\n",
    "        x5 = torch.relu(self.conv5(x4))\n",
    "        x6 = torch.reluReLU(self.conv6(x5))\n",
    "        x6 = self.maxpool3(x6)\n",
    "        # first flatten 'max_pool_2_out' to contain 16*5*5 columns\n",
    "        # read through https://stackoverflow.com/a/42482819/7551231\n",
    "        x7 = torch.relu(self.fc1(x6.view(-1, 512)))\n",
    "        x8 = torch.relu(self.fc2(x7))\n",
    "        x9 = self.fc3(x8)\n",
    "        return x1,x2,x3,x4,x5,x6,x7,x8,x9\n",
    "     \n",
    "# net = LeNet5(img_channels=img_channels)\n",
    "net = VGG(img_channels=img_channels)\n",
    "net.cuda()"
   ]
  },
  {
   "cell_type": "code",
   "execution_count": 22,
   "metadata": {},
   "outputs": [],
   "source": [
    "# set up loss function -- 'SVM Loss' a.k.a 'Cross-Entropy Loss'\n",
    "loss_func = torch.nn.CrossEntropyLoss()\n",
    "       \n",
    "# SGD used for optimization, momentum update used as parameter update  \n",
    "optimization = torch.optim.SGD(net.parameters(), lr = 0.001, momentum=0.9)"
   ]
  },
  {
   "cell_type": "code",
   "execution_count": null,
   "metadata": {},
   "outputs": [
    {
     "name": "stdout",
     "output_type": "stream",
     "text": [
      "epoch:  0 , loss:  2.3013104087114336\n",
      "epoch:  1 , loss:  2.2996611052751543\n",
      "epoch:  2 , loss:  2.244742033705115\n",
      "epoch:  3 , loss:  0.5718770738085732\n",
      "epoch:  4 , loss:  0.15258235347573645\n",
      "epoch:  5 , loss:  0.09669577383814612\n",
      "epoch:  6 , loss:  0.07435378480382497\n"
     ]
    }
   ],
   "source": [
    "use_cuda = torch.cuda.is_available()\n",
    "device = torch.device(\"cuda:0\" if use_cuda else \"cpu\")\n",
    "\n",
    "# Let training begin!\n",
    "numEpochs = 20    \n",
    "training_accuracy = []     \n",
    "validation_accuracy = []\n",
    "\n",
    "for epoch in range(numEpochs):\n",
    "    \n",
    "    # training set -- perform model training\n",
    "    epoch_training_loss = 0.0\n",
    "    num_batches = 0\n",
    "    for batch_num, training_batch in enumerate(train_loader):        # 'enumerate' is a super helpful function        \n",
    "        # split training data into inputs and labels\n",
    "        inputs, labels = training_batch                              # 'training_batch' is a list\n",
    "        inputs, labels = inputs.to(device), labels.to(device)\n",
    "        # Make gradients zero for parameters 'W', 'b'\n",
    "        net.zero_grad()         \n",
    "        # forward, backward pass with parameter update\n",
    "        forward_output = net(inputs)\n",
    "        loss = loss_func(forward_output, labels)\n",
    "        loss.backward()   \n",
    "        optimization.step()\n",
    "        # calculating loss \n",
    "        epoch_training_loss += loss.item()\n",
    "        num_batches += 1\n",
    "        \n",
    "    print(\"epoch: \", epoch, \", loss: \", epoch_training_loss/num_batches)            \n",
    "     \n",
    "    # calculate training set accuracy\n",
    "    accuracy = 0.0 \n",
    "    num_batches = 0\n",
    "    for batch_num, training_batch in enumerate(train_loader):        # 'enumerate' is a super helpful function        \n",
    "        num_batches += 1\n",
    "        inputs, actual_val = training_batch\n",
    "        # perform classification\n",
    "        predicted_val = net(inputs.cuda())\n",
    "        # convert 'predicted_val' tensor to numpy array and use 'numpy.argmax()' function    \n",
    "        predicted_val = predicted_val.cpu().data.numpy()    # convert cuda() type to cpu(), then convert it to numpy\n",
    "        predicted_val = np.argmax(predicted_val, axis = 1)  # retrieved max_values along every row    \n",
    "        # accuracy   \n",
    "        accuracy += accuracy_score(actual_val.numpy(), predicted_val)\n",
    "    training_accuracy.append(accuracy/num_batches)   \n",
    "\n",
    "    # calculate validation set accuracy \n",
    "    accuracy = 0.0 \n",
    "    num_batches = 0\n",
    "    for batch_num, validation_batch in enumerate(valid_loader):        # 'enumerate' is a super helpful function        \n",
    "        num_batches += 1\n",
    "        inputs, actual_val = validation_batch\n",
    "        # perform classification\n",
    "        predicted_val = net(inputs.cuda())\n",
    "        # convert 'predicted_val' tensor to numpy array and use 'numpy.argmax()' function    \n",
    "        predicted_val = predicted_val.cpu().data.numpy()    # convert cuda() type to cpu(), then convert it to numpy\n",
    "        predicted_val = np.argmax(predicted_val, axis = 1)  # retrieved max_values along every row    \n",
    "        # accuracy        \n",
    "        accuracy += accuracy_score(actual_val.numpy(), predicted_val)\n",
    "    validation_accuracy.append(accuracy/num_batches)"
   ]
  },
  {
   "cell_type": "code",
   "execution_count": 11,
   "metadata": {},
   "outputs": [
    {
     "data": {
      "text/plain": [
       "0.04163114354014397"
      ]
     },
     "execution_count": 11,
     "metadata": {},
     "output_type": "execute_result"
    }
   ],
   "source": [
    "loss.item()"
   ]
  },
  {
   "cell_type": "code",
   "execution_count": 17,
   "metadata": {},
   "outputs": [
    {
     "name": "stdout",
     "output_type": "stream",
     "text": [
      "[[-7.77920341e+00 -2.92547727e+00 -3.72444466e-02  2.00230675e+01\n",
      "  -6.63945007e+00  3.51048183e+00 -1.30993729e+01 -4.57993937e+00\n",
      "   6.60837841e+00  4.89036179e+00]\n",
      " [-1.04953995e+01  1.76401854e+00 -3.90894747e+00  1.57816162e+01\n",
      "  -4.58030891e+00  2.64143467e+00 -1.19387808e+01  6.00518405e-01\n",
      "   4.10179520e+00  4.39077473e+00]\n",
      " [ 2.51964688e+00 -7.65917826e+00  1.57468586e+01  3.41287303e+00\n",
      "   2.62598172e-02 -3.36821556e+00 -7.48287725e+00  2.55575728e+00\n",
      "  -5.79438269e-01  1.11174548e+00]\n",
      " [ 1.82764416e+01 -7.87661314e+00  3.80657601e+00 -7.47767591e+00\n",
      "   3.36434841e-02 -2.75095797e+00  7.19423831e-01 -4.92555237e+00\n",
      "   1.45271277e+00  6.93182051e-01]\n",
      " [-4.99670649e+00  3.93137264e+00  1.87157750e+00  4.74343157e+00\n",
      "  -2.71842790e+00 -5.20827723e+00 -1.73344097e+01  1.48895655e+01\n",
      "   4.45397806e+00  4.32998705e+00]\n",
      " [-1.33355865e+01 -3.99399543e+00 -1.84036589e+00  2.64473228e+01\n",
      "  -6.92456818e+00  4.83846283e+00 -2.02282391e+01 -2.90113187e+00\n",
      "   8.01888084e+00  1.04762716e+01]\n",
      " [ 1.62815869e+00 -1.96642101e+00 -6.10492289e-01 -1.17850208e+00\n",
      "   6.89692211e+00  2.85128689e+00  1.62932758e+01 -1.96489000e+00\n",
      "  -1.76742506e+00 -7.28892040e+00]\n",
      " [-1.14303812e-01 -9.77620125e+00 -1.95619130e+00  1.48739350e+00\n",
      "  -3.01487494e+00  4.25771713e+00  4.75617170e+00 -7.79516792e+00\n",
      "   2.59296951e+01 -1.78096855e+00]\n",
      " [ 2.18880920e+01 -1.14774714e+01  3.98900104e+00 -7.08158493e+00\n",
      "  -5.03655148e+00  1.63160717e+00  4.54792166e+00 -4.05861092e+00\n",
      "  -1.66686356e-01  7.12543190e-01]\n",
      " [-1.67999044e-01  1.03347530e+01  3.97847939e+00 -3.86145616e+00\n",
      "  -6.91756845e-01 -8.67342377e+00 -8.30911541e+00  8.11538887e+00\n",
      "   2.36279535e+00 -7.28267670e-01]\n",
      " [-6.62117529e+00  7.02058077e+00  1.86187878e+01  6.72264051e+00\n",
      "  -5.67168713e+00 -7.08682728e+00 -1.46317215e+01  5.03532791e+00\n",
      "   8.10052395e-01 -2.84299564e+00]\n",
      " [-3.28939223e+00 -3.30320787e+00 -3.25067711e+00  2.52052259e+00\n",
      "  -3.97232711e-01  2.38472596e-01 -1.29226437e+01  4.57201338e+00\n",
      "   3.49173355e+00  1.39012423e+01]\n",
      " [-9.26244640e+00 -3.37278891e+00 -5.96267891e+00  2.02679491e+00\n",
      "   8.68516922e+00 -3.11806798e+00 -1.40594845e+01  5.09711409e+00\n",
      "   3.66516781e+00  1.86944561e+01]\n",
      " [-8.58724976e+00 -3.66960382e+00 -1.41713238e+00  2.30649948e+01\n",
      "  -8.05543613e+00  4.21697378e+00 -1.23954916e+01 -1.80708751e-01\n",
      "   3.51290941e+00  5.17007351e+00]\n",
      " [-7.78229594e-01 -3.64612985e+00 -6.63498116e+00 -6.92636907e-01\n",
      "   1.91785014e+00  1.46190491e+01  6.73083878e+00 -9.88753223e+00\n",
      "   7.46009350e+00 -7.46501744e-01]\n",
      " [ 6.12110806e+00 -2.91994715e+00  1.02636266e+00  1.83219290e+00\n",
      "   2.98547769e+00  4.77463865e+00  1.36589479e+01 -8.55176067e+00\n",
      "  -2.11963868e+00 -8.09299850e+00]\n",
      " [ 2.33375397e+01 -1.52535715e+01  1.69240665e+00 -7.17366552e+00\n",
      "  -5.20391989e+00  4.66174936e+00  1.07258177e+01 -6.65851068e+00\n",
      "  -2.42490792e+00  3.73672104e+00]\n",
      " [-1.32740355e+01  9.66255367e-02  8.69301558e-01  2.76755466e+01\n",
      "  -9.92553043e+00 -2.78130323e-01 -1.60176353e+01  1.47130752e+00\n",
      "   6.05278683e+00  3.79221463e+00]\n",
      " [-1.12177467e+01 -1.34908593e+00 -2.56877518e+00  2.28020000e+01\n",
      "  -1.00605755e+01  6.54386282e-01 -1.37709885e+01  7.07839727e-01\n",
      "   7.62809134e+00  6.87262964e+00]\n",
      " [-6.75192165e+00  3.24170947e+00  8.63678992e-01  4.09754419e+00\n",
      "   1.19057238e+00 -7.30869484e+00 -1.36976261e+01  1.68266773e+01\n",
      "   6.03182220e+00  8.94473970e-01]\n",
      " [-3.69002938e+00  1.79836349e+01 -4.84012246e-01 -8.61854649e+00\n",
      "   4.91819382e+00 -4.93028736e+00 -2.71557307e+00  2.83636785e+00\n",
      "   9.05850828e-01 -3.18321466e+00]\n",
      " [-4.86536407e+00 -4.85577679e+00 -4.70310068e+00 -1.12446856e+00\n",
      "   1.13477974e+01 -3.73765863e-02 -1.14508333e+01  4.81108141e+00\n",
      "   9.84163359e-02  1.56404371e+01]\n",
      " [-5.06010485e+00  7.38333511e+00 -6.10660791e+00  8.47125530e-01\n",
      "   1.69491911e+00 -2.60410160e-01 -1.35318289e+01  1.66756706e+01\n",
      "  -1.41684949e-01  2.88901901e+00]\n",
      " [ 1.14673793e+00 -5.20303106e+00 -1.20767679e+01  5.14361715e+00\n",
      "  -3.17049742e+00  1.79237137e+01 -4.75468606e-01 -3.51530647e+00\n",
      "   5.70965385e+00  7.52575874e-01]\n",
      " [ 1.91736336e+01 -1.22990074e+01  1.09569407e+00 -6.55613279e+00\n",
      "  -6.20923710e+00  4.73119879e+00  9.08743858e+00 -5.49963760e+00\n",
      "   3.33274230e-02  3.61276889e+00]\n",
      " [-1.12270231e+01 -1.44010842e+00 -9.64005947e+00 -6.86376715e+00\n",
      "   2.72902527e+01 -5.33284426e-01 -3.66950130e+00  5.18954754e+00\n",
      "   3.08144689e+00  5.75129986e+00]\n",
      " [ 2.16833782e+01 -1.19115782e+01  2.82862639e+00 -7.54195118e+00\n",
      "  -4.88961363e+00  1.69152617e+00  7.45950079e+00 -6.03142118e+00\n",
      "   3.49768782e+00 -8.71340513e-01]\n",
      " [-8.74031067e+00 -6.43890142e+00  5.95760965e+00  5.76484728e+00\n",
      "   5.61171389e+00 -2.42103219e+00 -9.28965092e+00 -5.18653035e-01\n",
      "   6.35794640e+00  1.00247068e+01]\n",
      " [-6.96675730e+00  1.51568909e+01 -2.83112955e+00 -4.96423435e+00\n",
      "   6.23135900e+00 -1.41841137e+00 -4.37431145e+00  1.22718596e+00\n",
      "   9.71060574e-01 -9.48830605e-01]\n",
      " [-4.60739702e-01 -4.24581194e+00  5.84535265e+00  4.41662312e+00\n",
      "  -4.80020332e+00 -1.26315922e-01 -1.66821232e+01  1.62786217e+01\n",
      "  -2.38488126e+00  5.53858232e+00]]\n"
     ]
    },
    {
     "data": {
      "text/plain": [
       "array([3, 3, 2, 0, 7, 3, 6, 8, 0, 1, 2, 9, 9, 3, 5, 6, 0, 3, 3, 7, 1, 9,\n",
       "       7, 5, 0, 4, 0, 9, 1, 7])"
      ]
     },
     "execution_count": 17,
     "metadata": {},
     "output_type": "execute_result"
    }
   ],
   "source": [
    "predicted_val = net(inputs.cuda()).cpu().data.numpy()\n",
    "print(predicted_val)\n",
    "predicted_val = np.argmax(predicted_val, axis = 1)\n",
    "predicted_val"
   ]
  },
  {
   "cell_type": "code",
   "execution_count": 18,
   "metadata": {},
   "outputs": [
    {
     "data": {
      "image/png": "[encoded data removed]",
      "text/plain": [
       "<Figure size 432x288 with 1 Axes>"
      ]
     },
     "metadata": {
      "needs_background": "light"
     },
     "output_type": "display_data"
    }
   ],
   "source": [
    "epochs = list(range(numEpochs))\n",
    "\n",
    "# plotting training and validation accuracies\n",
    "fig1 = plt.figure()\n",
    "plt.plot(epochs, training_accuracy, 'r')\n",
    "plt.plot(epochs, validation_accuracy, 'g')\n",
    "plt.xlabel(\"Epochs\")\n",
    "plt.ylabel(\"Accuracy\") \n",
    "plt.show(fig1)"
   ]
  },
  {
   "cell_type": "code",
   "execution_count": 33,
   "metadata": {},
   "outputs": [
    {
     "name": "stdout",
     "output_type": "stream",
     "text": [
      "Classifier Accuracy:  98.74000000000001\n"
     ]
    }
   ],
   "source": [
    "# test the model on test dataset\n",
    "correct = 0\n",
    "total = 0\n",
    "for test_data in test_loader:\n",
    "    total += 1\n",
    "    inputs, actual_val = test_data \n",
    "    # perform classification\n",
    "    predicted_val = net.forward_allout(inputs.cuda())\n",
    "    # convert 'predicted_val' GPU tensor to CPU tensor and extract the column with max_score\n",
    "    predicted_val = predicted_val[-1].cpu().data\n",
    "    max_score, idx = torch.max(predicted_val, 1)\n",
    "    # compare it with actual value and estimate accuracy\n",
    "    correct += (idx == actual_val).sum()\n",
    "       \n",
    "print(\"Classifier Accuracy: \", correct.numpy()/total * 100)"
   ]
  },
  {
   "cell_type": "code",
   "execution_count": 30,
   "metadata": {},
   "outputs": [
    {
     "data": {
      "text/plain": [
       "(<matplotlib.axes._subplots.AxesSubplot at 0x7f9729201dd8>,\n",
       " <matplotlib.image.AxesImage at 0x7f9728fad8d0>)"
      ]
     },
     "execution_count": 30,
     "metadata": {},
     "output_type": "execute_result"
    },
    {
     "data": {
      "image/png": "[encoded data removed]",
      "text/plain": [
       "<Figure size 432x288 with 4 Axes>"
      ]
     },
     "metadata": {
      "needs_background": "light"
     },
     "output_type": "display_data"
    }
   ],
   "source": [
    "conv1 = torch.relu(net.conv1(inputs.cuda()))\n",
    "maxpool1 = net.maxpool1(conv1)\n",
    "conv2 = torch.relu(net.conv2(maxpool1))\n",
    "maxpool2 = net.maxpool2(conv2)\n",
    "\n",
    "subplot(1,4,1), plt.imshow(conv1[0,0,:,:].squeeze().detach().cpu().numpy())\n",
    "subplot(1,4,2), plt.imshow(maxpool1[0,0,:,:].squeeze().detach().cpu().numpy())\n",
    "subplot(1,4,3), plt.imshow(conv2[0,0,:,:].squeeze().detach().cpu().numpy())\n",
    "subplot(1,4,4), plt.imshow(maxpool2[0,0,:,:].squeeze().detach().cpu().numpy())"
   ]
  },
  {
   "cell_type": "code",
   "execution_count": 34,
   "metadata": {},
   "outputs": [],
   "source": [
    "# testout = net.forward_allout(test.data[0].cuda().view(1,1,28,28))\n",
    "testout = net.forward_allout(inputs.cuda())\n",
    "# x1.shape,x2.shape,x3.shape,x4.shape,x5.shape"
   ]
  },
  {
   "cell_type": "code",
   "execution_count": 35,
   "metadata": {},
   "outputs": [
    {
     "data": {
      "text/plain": [
       "torch.Size([10000, 1, 28, 28])"
      ]
     },
     "execution_count": 35,
     "metadata": {},
     "output_type": "execute_result"
    }
   ],
   "source": [
    "test.data.view(-1,1,28,28).cuda().size()"
   ]
  },
  {
   "cell_type": "code",
   "execution_count": 36,
   "metadata": {},
   "outputs": [],
   "source": [
    "testout = net.forward_allout(test.data.view(-1,1,28,28).to(device=device, dtype=torch.float))"
   ]
  },
  {
   "cell_type": "code",
   "execution_count": 37,
   "metadata": {},
   "outputs": [
    {
     "data": {
      "text/plain": [
       "torch.Size([10000, 6, 14, 14])"
      ]
     },
     "execution_count": 37,
     "metadata": {},
     "output_type": "execute_result"
    }
   ],
   "source": [
    "testout[0].size()"
   ]
  },
  {
   "cell_type": "code",
   "execution_count": 39,
   "metadata": {},
   "outputs": [
    {
     "data": {
      "text/plain": [
       "(tensor([ 909.3293, -311.1581, -416.9189, -563.4032,  471.1881, -131.3940,\n",
       "         2160.8147, -837.3452,  270.8433, -550.9911], device='cuda:0',\n",
       "        grad_fn=<SelectBackward>), 6)"
      ]
     },
     "execution_count": 39,
     "metadata": {},
     "output_type": "execute_result"
    },
    {
     "data": {
      "image/png": "[encoded data removed]",
      "text/plain": [
       "<Figure size 432x288 with 1 Axes>"
      ]
     },
     "metadata": {
      "needs_background": "light"
     },
     "output_type": "display_data"
    }
   ],
   "source": [
    "inum=66\n",
    "plt.imshow(testout[0][inum,0,:,:].squeeze().detach().cpu().numpy())\n",
    "testout[-1][inum],np.argmax(testout[-1][inum].detach().cpu().numpy())"
   ]
  },
  {
   "cell_type": "code",
   "execution_count": 40,
   "metadata": {},
   "outputs": [],
   "source": [
    "import scipy.io\n",
    "\n",
    "scipy.io.savemat('mnist_LeNet5.mat',{'x1':testout[0].detach().cpu().numpy(),\\\n",
    "                                     'x2':testout[1].detach().cpu().numpy(),\\\n",
    "                                     'x3':testout[2].detach().cpu().numpy(),\\\n",
    "                                     'x4':testout[3].detach().cpu().numpy(),\\\n",
    "                                     'x5':testout[4].detach().cpu().numpy(),\\\n",
    "                                     'labels':test.targets.detach().cpu().numpy()})"
   ]
  },
  {
   "cell_type": "code",
   "execution_count": null,
   "metadata": {},
   "outputs": [],
   "source": []
  }
 ],
 "metadata": {
  "kernelspec": {
   "display_name": "Python 3",
   "language": "python",
   "name": "python3"
  },
  "language_info": {
   "codemirror_mode": {
    "name": "ipython",
    "version": 3
   },
   "file_extension": ".py",
   "mimetype": "text/x-python",
   "name": "python",
   "nbconvert_exporter": "python",
   "pygments_lexer": "ipython3",
   "version": "3.7.3"
  }
 },
 "nbformat": 4,
 "nbformat_minor": 2
}
