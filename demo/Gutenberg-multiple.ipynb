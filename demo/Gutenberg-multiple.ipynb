{
 "cells": [
  {
   "cell_type": "code",
   "execution_count": 1,
   "metadata": {},
   "outputs": [],
   "source": [
    "from gutenberg.acquire import load_etext\n",
    "from gutenberg.cleanup import strip_headers\n",
    "from sklearn.feature_extraction.text import CountVectorizer,TfidfVectorizer\n",
    "import numpy as np\n",
    "import scipy.io as sio"
   ]
  },
  {
   "cell_type": "code",
   "execution_count": 2,
   "metadata": {},
   "outputs": [],
   "source": [
    " # Loads Moby Dick\n",
    "mobydick = strip_headers(load_etext(2701)).strip()\n",
    "text = [mobydick.split('ETYMOLOGY')[-1]]"
   ]
  },
  {
   "cell_type": "code",
   "execution_count": 3,
   "metadata": {},
   "outputs": [],
   "source": [
    "# Loads Pride and Prejudice\n",
    "pride = strip_headers(load_etext(1342)).strip()\n",
    "text.append(pride.split('Austen')[-1])"
   ]
  },
  {
   "cell_type": "code",
   "execution_count": 4,
   "metadata": {},
   "outputs": [],
   "source": [
    "# Loads Huck Finn\n",
    "huckfinn = strip_headers(load_etext(76)).strip()\n",
    "text.append(huckfinn.split('\\nEXPLANATORY\\n\\n')[-1])"
   ]
  },
  {
   "cell_type": "code",
   "execution_count": 5,
   "metadata": {},
   "outputs": [],
   "source": [
    "# Loads tom sawyer\n",
    "toms = strip_headers(load_etext(74)).strip()\n",
    "text.append(toms.split('\\nPREFACE\\n\\n')[-1])"
   ]
  },
  {
   "cell_type": "code",
   "execution_count": 6,
   "metadata": {},
   "outputs": [],
   "source": [
    "# Loads Sense and Sensibility\n",
    "sense = strip_headers(load_etext(161)).strip()\n",
    "text.append(sense.split('\\n(1811)\\n\\n')[-1])"
   ]
  },
  {
   "cell_type": "code",
   "execution_count": 7,
   "metadata": {},
   "outputs": [],
   "source": [
    "# Loads Twenty Thousand Leagues\n",
    "leagues20k = strip_headers(load_etext(164)).strip()\n",
    "text.append(leagues20k.split(' VERNE\\n\\n')[-1])"
   ]
  },
  {
   "cell_type": "code",
   "execution_count": 8,
   "metadata": {},
   "outputs": [],
   "source": [
    "# Loads Ulysses\n",
    "ulysses = strip_headers(load_etext(4300)).strip()\n",
    "text.append(ulysses.split('\\n— I —\\n')[-1])"
   ]
  },
  {
   "cell_type": "code",
   "execution_count": 18,
   "metadata": {},
   "outputs": [],
   "source": [
    "titles = ['Moby Dick','Pride and Prejudice','Huck Finn','Tom Sawyer','Sense and Sensibility','20K Leagues','Ulysses']"
   ]
  },
  {
   "cell_type": "code",
   "execution_count": 10,
   "metadata": {},
   "outputs": [
    {
     "name": "stdout",
     "output_type": "stream",
     "text": [
      "\n",
      "\n",
      "[ 1 ]\n",
      "\n",
      "Stately, plump Buck Mulligan came from the stairhead, bearing a bowl of\n",
      "lather on which a mirror and a razor lay crossed. A yellow\n",
      "dressinggown, ungirdled, was sustained gently behind him on the mild\n",
      "morning air. He held the bowl aloft and intoned:\n",
      "\n",
      "—_Introibo ad altare Dei_.\n",
      "\n",
      "Halted, he peered down the dark winding stairs and called out coarsely:\n",
      "\n",
      "—Come up, Kinch! Come up, you fearful jesuit!\n",
      "\n",
      "Solemnly he came forward and mounted the round gunrest. He faced about\n",
      "and blessed gravely thrice the tower, the surrounding land and the\n",
      "awaking mountains. Then, catching sight of Stephen Dedalus, he bent\n",
      "towards him and made rapid crosses in the air, gurgling in his throat\n",
      "and shaking his head. Stephen Dedalus, displeased and sleepy, leaned\n",
      "his arms on the top of the staircase and looked coldly at the shaking\n",
      "gurgling face that blessed him, equine in its length, and at the light\n",
      "untonsured hair, grained and hued like pale oak.\n",
      "\n",
      "Buck Mulligan peeped an instant under the mirror and then\n"
     ]
    }
   ],
   "source": [
    "print(ulysses.split('\\n— I —\\n')[-1][:1000])"
   ]
  },
  {
   "cell_type": "code",
   "execution_count": 11,
   "metadata": {},
   "outputs": [],
   "source": [
    "chapters = []\n",
    "for i in range(len(text)):\n",
    "    chapters.append(text[i].split('CHAPTER '))\n",
    "chapters[1] = text[1].split('Chapter ') # fix\n",
    "chapters[6] = text[6].split(' ]\\n\\n') # fix\n",
    "allchaps = [y for x in chapters for y in x]"
   ]
  },
  {
   "cell_type": "code",
   "execution_count": 12,
   "metadata": {},
   "outputs": [
    {
     "name": "stdout",
     "output_type": "stream",
     "text": [
      "Yes because he never did a thing like that before as ask to get his\n",
      "breakfast in bed with a couple of eggs since the _City Arms_ hotel when\n",
      "he used to be pretending to be laid up with a sick voice doi\n"
     ]
    }
   ],
   "source": [
    "print(chapters[6][-1][:200])"
   ]
  },
  {
   "cell_type": "code",
   "execution_count": 13,
   "metadata": {},
   "outputs": [],
   "source": [
    "chapix = [len(x) for x in chapters]"
   ]
  },
  {
   "cell_type": "code",
   "execution_count": 14,
   "metadata": {},
   "outputs": [],
   "source": [
    "def textcounter(chapters,n_features=1000):\n",
    "    tfidf_vectorizer = TfidfVectorizer(max_df=0.95, min_df=2,\n",
    "                                       max_features=n_features,\n",
    "                                       stop_words='english')\n",
    "    freq = tfidf_vectorizer.fit_transform(chapters)\n",
    "    words = tfidf_vectorizer.get_feature_names()\n",
    "    return freq, words"
   ]
  },
  {
   "cell_type": "code",
   "execution_count": 20,
   "metadata": {},
   "outputs": [],
   "source": [
    "freq, words = textcounter(allchaps,50)"
   ]
  },
  {
   "cell_type": "code",
   "execution_count": 21,
   "metadata": {},
   "outputs": [
    {
     "data": {
      "text/plain": [
       "'whale'"
      ]
     },
     "execution_count": 21,
     "metadata": {},
     "output_type": "execute_result"
    }
   ],
   "source": [
    "words[freq.sum(0).argmax()]"
   ]
  },
  {
   "cell_type": "code",
   "execution_count": 22,
   "metadata": {},
   "outputs": [],
   "source": [
    "sio.savemat('/Users/zaharia/books.mat',{'freq':freq.todense(),'words':np.array(words,dtype=np.object),\\\n",
    "                                        'chapix':chapix,'titles':np.array(titles,dtype=np.object)})"
   ]
  },
  {
   "cell_type": "code",
   "execution_count": 31,
   "metadata": {},
   "outputs": [
    {
     "ename": "IndexError",
     "evalue": "list assignment index out of range",
     "output_type": "error",
     "traceback": [
      "\u001b[0;31m---------------------------------------------------------------------------\u001b[0m",
      "\u001b[0;31mIndexError\u001b[0m                                Traceback (most recent call last)",
      "\u001b[0;32m<ipython-input-31-ab14e62f4aa5>\u001b[0m in \u001b[0;36m<module>\u001b[0;34m()\u001b[0m\n\u001b[1;32m      2\u001b[0m \u001b[0msepwords\u001b[0m \u001b[0;34m=\u001b[0m \u001b[0;34m[\u001b[0m\u001b[0;34m]\u001b[0m\u001b[0;34m\u001b[0m\u001b[0m\n\u001b[1;32m      3\u001b[0m \u001b[0;32mfor\u001b[0m \u001b[0mi\u001b[0m \u001b[0;32min\u001b[0m \u001b[0mrange\u001b[0m\u001b[0;34m(\u001b[0m\u001b[0mlen\u001b[0m\u001b[0;34m(\u001b[0m\u001b[0mtitles\u001b[0m\u001b[0;34m)\u001b[0m\u001b[0;34m)\u001b[0m\u001b[0;34m:\u001b[0m\u001b[0;34m\u001b[0m\u001b[0m\n\u001b[0;32m----> 4\u001b[0;31m     \u001b[0msepfreq\u001b[0m\u001b[0;34m[\u001b[0m\u001b[0mi\u001b[0m\u001b[0;34m]\u001b[0m\u001b[0;34m,\u001b[0m \u001b[0msepwords\u001b[0m\u001b[0;34m[\u001b[0m\u001b[0mi\u001b[0m\u001b[0;34m]\u001b[0m \u001b[0;34m=\u001b[0m \u001b[0mtextcounter\u001b[0m\u001b[0;34m(\u001b[0m\u001b[0mchapters\u001b[0m\u001b[0;34m[\u001b[0m\u001b[0mi\u001b[0m\u001b[0;34m]\u001b[0m\u001b[0;34m,\u001b[0m\u001b[0;36m50\u001b[0m\u001b[0;34m)\u001b[0m\u001b[0;34m\u001b[0m\u001b[0m\n\u001b[0m",
      "\u001b[0;31mIndexError\u001b[0m: list assignment index out of range"
     ]
    }
   ],
   "source": [
    "sepfreq = []\n",
    "sepwords = []\n",
    "for i in range(len(titles)):\n",
    "    tmpfreq, tmpwords = textcounter(chapters[i],50)\n",
    "    sepfreq.append(tmpfreq)\n",
    "    sepwords.append(tmpwords)"
   ]
  },
  {
   "cell_type": "code",
   "execution_count": null,
   "metadata": {},
   "outputs": [],
   "source": []
  }
 ],
 "metadata": {
  "kernelspec": {
   "display_name": "Python 3",
   "language": "python",
   "name": "python3"
  },
  "language_info": {
   "codemirror_mode": {
    "name": "ipython",
    "version": 3
   },
   "file_extension": ".py",
   "mimetype": "text/x-python",
   "name": "python",
   "nbconvert_exporter": "python",
   "pygments_lexer": "ipython3",
   "version": "3.6.6"
  }
 },
 "nbformat": 4,
 "nbformat_minor": 2
}
